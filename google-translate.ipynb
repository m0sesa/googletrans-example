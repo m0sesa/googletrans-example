{
 "cells": [
  {
   "cell_type": "markdown",
   "id": "066f7a05",
   "metadata": {},
   "source": [
    "## This is not the Official Google Translate Package, But it works 🤓\n",
    "\n",
    "Some set of guys have created a pip package that makes using the google translate api free unlimited reverse engineering and hacking google translate. For now it works but if Google decide to change some things tomorrow, it might not work and you will need to find a working solution on the internet. \n",
    "\n",
    "Please note that as this is not the official google package, the package is likely be unrelaible, if relaibility is very important to you, please use the official package.\n",
    "\n",
    "\n",
    "Enough of the talks, lets get to the code. First you will need to install the package, not the one on the official pip page though.\n",
    "\n",
    "\n",
    "```\n",
    "pip install googletrans==4.0.0-rc1\n",
    "```"
   ]
  },
  {
   "cell_type": "code",
   "execution_count": 1,
   "id": "49e04596",
   "metadata": {},
   "outputs": [
    {
     "name": "stdout",
     "output_type": "stream",
     "text": [
      "Requirement already satisfied: googletrans==4.0.0-rc1 in /Users/m0/opt/anaconda3/lib/python3.8/site-packages (4.0.0rc1)\r\n",
      "Requirement already satisfied: httpx==0.13.3 in /Users/m0/opt/anaconda3/lib/python3.8/site-packages (from googletrans==4.0.0-rc1) (0.13.3)\r\n",
      "Requirement already satisfied: httpcore==0.9.* in /Users/m0/opt/anaconda3/lib/python3.8/site-packages (from httpx==0.13.3->googletrans==4.0.0-rc1) (0.9.1)\r\n",
      "Requirement already satisfied: chardet==3.* in /Users/m0/opt/anaconda3/lib/python3.8/site-packages (from httpx==0.13.3->googletrans==4.0.0-rc1) (3.0.4)\r\n",
      "Requirement already satisfied: hstspreload in /Users/m0/opt/anaconda3/lib/python3.8/site-packages (from httpx==0.13.3->googletrans==4.0.0-rc1) (2021.12.1)\r\n",
      "Requirement already satisfied: sniffio in /Users/m0/opt/anaconda3/lib/python3.8/site-packages (from httpx==0.13.3->googletrans==4.0.0-rc1) (1.2.0)\r\n",
      "Requirement already satisfied: rfc3986<2,>=1.3 in /Users/m0/opt/anaconda3/lib/python3.8/site-packages (from httpx==0.13.3->googletrans==4.0.0-rc1) (1.5.0)\r\n",
      "Requirement already satisfied: certifi in /Users/m0/opt/anaconda3/lib/python3.8/site-packages (from httpx==0.13.3->googletrans==4.0.0-rc1) (2021.10.8)\r\n",
      "Requirement already satisfied: idna==2.* in /Users/m0/opt/anaconda3/lib/python3.8/site-packages (from httpx==0.13.3->googletrans==4.0.0-rc1) (2.10)\r\n",
      "Requirement already satisfied: h2==3.* in /Users/m0/opt/anaconda3/lib/python3.8/site-packages (from httpcore==0.9.*->httpx==0.13.3->googletrans==4.0.0-rc1) (3.2.0)\r\n",
      "Requirement already satisfied: h11<0.10,>=0.8 in /Users/m0/opt/anaconda3/lib/python3.8/site-packages (from httpcore==0.9.*->httpx==0.13.3->googletrans==4.0.0-rc1) (0.9.0)\r\n",
      "Requirement already satisfied: hyperframe<6,>=5.2.0 in /Users/m0/opt/anaconda3/lib/python3.8/site-packages (from h2==3.*->httpcore==0.9.*->httpx==0.13.3->googletrans==4.0.0-rc1) (5.2.0)\r\n",
      "Requirement already satisfied: hpack<4,>=3.0 in /Users/m0/opt/anaconda3/lib/python3.8/site-packages (from h2==3.*->httpcore==0.9.*->httpx==0.13.3->googletrans==4.0.0-rc1) (3.0.0)\r\n"
     ]
    }
   ],
   "source": [
    "!pip install googletrans==4.0.0-rc1"
   ]
  },
  {
   "cell_type": "markdown",
   "id": "c5eecb9f",
   "metadata": {},
   "source": [
    "<hr>As for my case the package has already been installed. \n",
    "\n",
    "We will be considering just some few aspects of the package\n",
    "- All supported languages\n",
    "- Language detection\n",
    "- Language translation\n",
    "\n",
    "Before that, lets do all the required imports"
   ]
  },
  {
   "cell_type": "code",
   "execution_count": 2,
   "id": "f470ffbf",
   "metadata": {},
   "outputs": [],
   "source": [
    "import googletrans\n",
    "from googletrans import Translator"
   ]
  },
  {
   "cell_type": "markdown",
   "id": "4ff10ac7",
   "metadata": {},
   "source": [
    "#### All supported Languages"
   ]
  },
  {
   "cell_type": "code",
   "execution_count": 3,
   "id": "19a9bd10",
   "metadata": {},
   "outputs": [
    {
     "data": {
      "text/plain": [
       "{'af': 'afrikaans',\n",
       " 'sq': 'albanian',\n",
       " 'am': 'amharic',\n",
       " 'ar': 'arabic',\n",
       " 'hy': 'armenian',\n",
       " 'az': 'azerbaijani',\n",
       " 'eu': 'basque',\n",
       " 'be': 'belarusian',\n",
       " 'bn': 'bengali',\n",
       " 'bs': 'bosnian',\n",
       " 'bg': 'bulgarian',\n",
       " 'ca': 'catalan',\n",
       " 'ceb': 'cebuano',\n",
       " 'ny': 'chichewa',\n",
       " 'zh-cn': 'chinese (simplified)',\n",
       " 'zh-tw': 'chinese (traditional)',\n",
       " 'co': 'corsican',\n",
       " 'hr': 'croatian',\n",
       " 'cs': 'czech',\n",
       " 'da': 'danish',\n",
       " 'nl': 'dutch',\n",
       " 'en': 'english',\n",
       " 'eo': 'esperanto',\n",
       " 'et': 'estonian',\n",
       " 'tl': 'filipino',\n",
       " 'fi': 'finnish',\n",
       " 'fr': 'french',\n",
       " 'fy': 'frisian',\n",
       " 'gl': 'galician',\n",
       " 'ka': 'georgian',\n",
       " 'de': 'german',\n",
       " 'el': 'greek',\n",
       " 'gu': 'gujarati',\n",
       " 'ht': 'haitian creole',\n",
       " 'ha': 'hausa',\n",
       " 'haw': 'hawaiian',\n",
       " 'iw': 'hebrew',\n",
       " 'he': 'hebrew',\n",
       " 'hi': 'hindi',\n",
       " 'hmn': 'hmong',\n",
       " 'hu': 'hungarian',\n",
       " 'is': 'icelandic',\n",
       " 'ig': 'igbo',\n",
       " 'id': 'indonesian',\n",
       " 'ga': 'irish',\n",
       " 'it': 'italian',\n",
       " 'ja': 'japanese',\n",
       " 'jw': 'javanese',\n",
       " 'kn': 'kannada',\n",
       " 'kk': 'kazakh',\n",
       " 'km': 'khmer',\n",
       " 'ko': 'korean',\n",
       " 'ku': 'kurdish (kurmanji)',\n",
       " 'ky': 'kyrgyz',\n",
       " 'lo': 'lao',\n",
       " 'la': 'latin',\n",
       " 'lv': 'latvian',\n",
       " 'lt': 'lithuanian',\n",
       " 'lb': 'luxembourgish',\n",
       " 'mk': 'macedonian',\n",
       " 'mg': 'malagasy',\n",
       " 'ms': 'malay',\n",
       " 'ml': 'malayalam',\n",
       " 'mt': 'maltese',\n",
       " 'mi': 'maori',\n",
       " 'mr': 'marathi',\n",
       " 'mn': 'mongolian',\n",
       " 'my': 'myanmar (burmese)',\n",
       " 'ne': 'nepali',\n",
       " 'no': 'norwegian',\n",
       " 'or': 'odia',\n",
       " 'ps': 'pashto',\n",
       " 'fa': 'persian',\n",
       " 'pl': 'polish',\n",
       " 'pt': 'portuguese',\n",
       " 'pa': 'punjabi',\n",
       " 'ro': 'romanian',\n",
       " 'ru': 'russian',\n",
       " 'sm': 'samoan',\n",
       " 'gd': 'scots gaelic',\n",
       " 'sr': 'serbian',\n",
       " 'st': 'sesotho',\n",
       " 'sn': 'shona',\n",
       " 'sd': 'sindhi',\n",
       " 'si': 'sinhala',\n",
       " 'sk': 'slovak',\n",
       " 'sl': 'slovenian',\n",
       " 'so': 'somali',\n",
       " 'es': 'spanish',\n",
       " 'su': 'sundanese',\n",
       " 'sw': 'swahili',\n",
       " 'sv': 'swedish',\n",
       " 'tg': 'tajik',\n",
       " 'ta': 'tamil',\n",
       " 'te': 'telugu',\n",
       " 'th': 'thai',\n",
       " 'tr': 'turkish',\n",
       " 'uk': 'ukrainian',\n",
       " 'ur': 'urdu',\n",
       " 'ug': 'uyghur',\n",
       " 'uz': 'uzbek',\n",
       " 'vi': 'vietnamese',\n",
       " 'cy': 'welsh',\n",
       " 'xh': 'xhosa',\n",
       " 'yi': 'yiddish',\n",
       " 'yo': 'yoruba',\n",
       " 'zu': 'zulu'}"
      ]
     },
     "execution_count": 3,
     "metadata": {},
     "output_type": "execute_result"
    }
   ],
   "source": [
    "googletrans.LANGUAGES"
   ]
  },
  {
   "cell_type": "markdown",
   "id": "03f0134e",
   "metadata": {},
   "source": [
    "#### Language Detection"
   ]
  },
  {
   "cell_type": "code",
   "execution_count": 4,
   "id": "32f44b82",
   "metadata": {},
   "outputs": [
    {
     "name": "stdout",
     "output_type": "stream",
     "text": [
      "What is the name of the man in the bathroom is 'en'\n",
      "Son todas las sonrisas contagiosas is 'es'\n",
      "Christmans wa ni afẹfẹ is 'yo'\n"
     ]
    }
   ],
   "source": [
    "import httpx\n",
    "\n",
    "text1 = \"What is the name of the man in the bathroom\"\n",
    "text2 = \"Son todas las sonrisas contagiosas\"\n",
    "text3 = \"Christmans wa ni afẹfẹ\"\n",
    "\n",
    "# added a 10 seconds timeout\n",
    "translator = Translator(timeout=httpx._config.Timeout(10))\n",
    "\n",
    "det1 = translator.detect(text1)\n",
    "det2 = translator.detect(text2)\n",
    "det3 = translator.detect(text3)\n",
    "\n",
    "print(f\"{text1} is '{det1.lang}'\")\n",
    "print(f\"{text2} is '{det2.lang}'\")\n",
    "print(f\"{text3} is '{det3.lang}'\")"
   ]
  },
  {
   "cell_type": "markdown",
   "id": "6cba413a",
   "metadata": {},
   "source": [
    "#### Working with files\n"
   ]
  },
  {
   "cell_type": "code",
   "execution_count": null,
   "id": "c6024be6",
   "metadata": {},
   "outputs": [
    {
     "name": "stdout",
     "output_type": "stream",
     "text": [
      ".................................."
     ]
    }
   ],
   "source": [
    "# if the file is a large file\n",
    "trans = []\n",
    "with open('./text.txt') as file:\n",
    "    for line in file:\n",
    "        lin = line.strip()\n",
    "        if len(lin) == 0 : continue\n",
    "        t = translator.translate(lin, dest='es')\n",
    "        trans.append(t.text)\n",
    "        print('.', end='')"
   ]
  },
  {
   "cell_type": "code",
   "execution_count": null,
   "id": "e4b581ef",
   "metadata": {},
   "outputs": [],
   "source": [
    "trans[:10]"
   ]
  },
  {
   "cell_type": "code",
   "execution_count": null,
   "id": "b755e6c3",
   "metadata": {},
   "outputs": [],
   "source": [
    "# If you are working with a small file, you can load all into memory at once"
   ]
  },
  {
   "cell_type": "code",
   "execution_count": null,
   "id": "eec2b4a9",
   "metadata": {},
   "outputs": [],
   "source": [
    "trans = ''\n",
    "doc = ''\n",
    "with open('./text.txt') as file:\n",
    "    doc = file.read()\n",
    "\n",
    "translation = translator.translate(doc, dest='es')"
   ]
  },
  {
   "cell_type": "code",
   "execution_count": null,
   "id": "3d5641bd",
   "metadata": {},
   "outputs": [],
   "source": [
    "translation.text"
   ]
  },
  {
   "cell_type": "markdown",
   "id": "c1cb6825",
   "metadata": {},
   "source": [
    "###### Sources\n",
    "- https://stackoverflow.com/questions/52455774/googletrans-stopped-working-with-error-nonetype-object-has-no-attribute-group\n",
    "-https://py-googletrans.readthedocs.io/en/latest/"
   ]
  }
 ],
 "metadata": {
  "kernelspec": {
   "display_name": "Python 3",
   "language": "python",
   "name": "python3"
  },
  "language_info": {
   "codemirror_mode": {
    "name": "ipython",
    "version": 3
   },
   "file_extension": ".py",
   "mimetype": "text/x-python",
   "name": "python",
   "nbconvert_exporter": "python",
   "pygments_lexer": "ipython3",
   "version": "3.8.8"
  }
 },
 "nbformat": 4,
 "nbformat_minor": 5
}
